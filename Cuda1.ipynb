{
  "cells": [
    {
      "cell_type": "code",
      "execution_count": 3,
      "metadata": {
        "colab": {
          "base_uri": "https://localhost:8080/"
        },
        "id": "sw0NGvGifTUV",
        "outputId": "96998a64-4452-4848-8afd-d093c270539d"
      },
      "outputs": [
        {
          "name": "stdout",
          "output_type": "stream",
          "text": [
            "nvcc: NVIDIA (R) Cuda compiler driver\n",
            "Copyright (c) 2005-2025 NVIDIA Corporation\n",
            "Built on Wed_Aug_20_13:58:20_Pacific_Daylight_Time_2025\n",
            "Cuda compilation tools, release 13.0, V13.0.88\n",
            "Build cuda_13.0.r13.0/compiler.36424714_0\n"
          ]
        }
      ],
      "source": [
        "!nvcc --version"
      ]
    },
    {
      "cell_type": "markdown",
      "metadata": {
        "id": "hB6ydPlMfxN1"
      },
      "source": [
        "Выделить на GPU массив arr из 10^9 элементов типа float и инициализировать его с помощью ядра следующим образом: arr[i] = sin((i%360)*Pi/180). Скопировать массив в память центрального процессора и посчитать ошибку err = sum_i(abs(sin((i%360)*Pi/180) - arr[i]))/10^9. Провести исследование зависимости результата от использования функций: sin, sinf, __sinf. Объяснить результат. Проверить результат при использовании массива типа double."
      ]
    },
    {
      "cell_type": "code",
      "execution_count": 4,
      "metadata": {
        "colab": {
          "base_uri": "https://localhost:8080/"
        },
        "id": "9bwUPw9bfPH5",
        "outputId": "92d1fb37-8874-43eb-a215-6db4b323534c"
      },
      "outputs": [
        {
          "name": "stdout",
          "output_type": "stream",
          "text": [
            "Overwriting example.cu\n"
          ]
        }
      ],
      "source": [
        "%%writefile example.cu\n",
        "\n",
        "#include <iostream>\n",
        "#include <cmath>\n",
        "#include <vector>\n",
        "#include <cuda_runtime.h>\n",
        "\n",
        "#define M_PI 3.14159265358979323846\n",
        "\n",
        "// Функции CPU\n",
        "\n",
        "std::vector<float> float_sin_cpu(int N) {\n",
        "    std::vector<float> result(N);\n",
        "    for (int i = 0; i <  N; ++i) {\n",
        "        float angle = (i % 360) * M_PI / 180.0f;\n",
        "        result[i] = sinf(angle);\n",
        "    }\n",
        "    return result;\n",
        "}\n",
        "\n",
        "\n",
        "std::vector<double> double_sin_cpu(int N) {\n",
        "    std::vector<double> result(N);\n",
        "    for (int i = 0; i < N; ++i) {\n",
        "        double angle = (i % 360) * M_PI / 180.0f;\n",
        "        result[i] = sin(angle);\n",
        "    }\n",
        "    return result;\n",
        "}\n",
        "\n",
        "\n",
        "// CUDA Ядра\n",
        "\n",
        "__global__ void compute_sin_float(float* d_result, int N) {\n",
        "    int i = blockIdx.x * blockDim.x + threadIdx.x;\n",
        "    if (i < N) {\n",
        "        float angle = (i % 360) * M_PI / 180.0f;\n",
        "        d_result[i] = __sinf(angle); // __sinf возвращает float\n",
        "    }\n",
        "}\n",
        "\n",
        "\n",
        "__global__ void compute_sin_double(double* d_result, int N) {\n",
        "    int i = blockIdx.x * blockDim.x + threadIdx.x;\n",
        "    if (i < N) {\n",
        "        double angle = (i % 360) * M_PI / 180.0;\n",
        "        d_result[i] = sin(angle);\n",
        "    }\n",
        "}\n",
        "\n",
        "\n",
        "// Вычисление ошибки\n",
        "template<class Ty1, class Ty2>\n",
        "double calculate_error(const std::vector<Ty1>& arr1, const std::vector<Ty2>& arr2)\n",
        "{\n",
        "\tdouble error = 0.0;\n",
        "\tsize_t N = arr1.size();\n",
        "\tfor (size_t i = 0; i < N; ++i)\n",
        "\t{\n",
        "\t\terror += std::abs(static_cast<double>(arr1[i]) - static_cast<double>(arr2[i]));\n",
        "\t}\n",
        "\treturn error / N;\n",
        "}\n",
        "\n",
        "\n",
        "\n",
        "\n",
        "int main() {\n",
        "    const int N = 360; // 1000000000\n",
        "\n",
        "    // CPU\n",
        "    auto float_result_cpu = float_sin_cpu(N);\n",
        "    auto double_result_cpu = double_sin_cpu(N);\n",
        "\n",
        "\n",
        "    // GPU float\n",
        "    float* d_float_result; //  хранение результатов на GPU после вычисления синуса для float\n",
        "    float* h_float_result = (float*)malloc(N * sizeof(float)); // выделение памяти на CPU хосте\n",
        "\n",
        "    cudaMalloc(&d_float_result, N * sizeof(float));\n",
        "\n",
        "    int threadIdx_num = 256;\n",
        "    int blockDim_num = (N + threadIdx_num - 1) / threadIdx_num;\n",
        "\n",
        "\n",
        "    // Запуск compute_sin_float\n",
        "    compute_sin_float<<<blockDim_num, threadIdx_num>>>(d_float_result, N);\n",
        "\n",
        "\n",
        "    // cudaMemcpyDeviceToHost\n",
        "\n",
        "    cudaMemcpy(h_float_result, d_float_result, N * sizeof(float), cudaMemcpyDeviceToHost);\n",
        "    cudaFree(d_float_result);\n",
        "\n",
        "\n",
        "\n",
        "    // GPU double\n",
        "    double* d_double_result; //  хранение результатов на GPU полсе вычисления синуса для double\n",
        "    double* h_double_result = (double*)malloc(N * sizeof(double));\n",
        "    cudaMalloc(&d_double_result, N * sizeof(double));\n",
        "\n",
        "    compute_sin_double<<<blockDim_num, threadIdx_num>>>(d_double_result, N);\n",
        "    cudaMemcpy(h_double_result, d_double_result, N * sizeof(double), cudaMemcpyDeviceToHost);\n",
        "    cudaFree(d_double_result);\n",
        "\n",
        "\n",
        "\n",
        "\n",
        "    // float - float / double - double\n",
        "    double float_error = calculate_error(float_result_cpu, std::vector<float>(h_float_result, h_float_result + N));\n",
        "    double double_error = calculate_error(double_result_cpu, std::vector<double>(h_double_result, h_double_result + N));\n",
        "\n",
        "    // float - double / double - float\n",
        "    double float_double_error = calculate_error(float_result_cpu, std::vector<double>(h_double_result, h_double_result + N));\n",
        "    double double_float_error = calculate_error(double_result_cpu, std::vector<float>(h_float_result, h_float_result + N));\n",
        "\n",
        "\n",
        "\n",
        "\n",
        "    // общая для всех синусов\n",
        "    double total_error = (float_error + double_error + float_double_error + double_float_error) / 4.0;\n",
        "\n",
        "    std::cout << \"Double Error (CPU float vs GPU float): \" << float_error << std::endl;\n",
        "    std::cout << \"Double Error (CPU double vs GPU double): \" << double_error << std::endl;\n",
        "    std::cout << \"Double Error (CPU float vs GPU double): \" << float_double_error << std::endl;\n",
        "    std::cout << \"Double Error (CPU double vs GPU float): \" << double_float_error << std::endl;\n",
        "\n",
        "    free(h_float_result);\n",
        "    free(h_double_result);\n",
        "\n",
        "    return 0;\n",
        "}"
      ]
    },
    {
      "cell_type": "code",
      "execution_count": 13,
      "metadata": {
        "id": "IULUJydjp8eb"
      },
      "outputs": [
        {
          "name": "stdout",
          "output_type": "stream",
          "text": [
            "example.cu\n",
            "tmpxft_000060b0_00000000-10_example.cudafe1.cpp\n"
          ]
        }
      ],
      "source": [
        "!nvcc example.cu -o example.exe"
      ]
    },
    {
      "cell_type": "code",
      "execution_count": 18,
      "metadata": {
        "colab": {
          "base_uri": "https://localhost:8080/"
        },
        "id": "zBv0lkvGp8gS",
        "outputId": "6ee3d4b9-e40a-4795-d0fb-8218796954a7"
      },
      "outputs": [
        {
          "name": "stderr",
          "output_type": "stream",
          "text": [
            "\".\" �� ���� ����७��� ��� ���譥�\n",
            "��������, �ᯮ��塞�� �ணࠬ��� ��� ������ 䠩���.\n"
          ]
        }
      ],
      "source": [
        "!./example"
      ]
    }
  ],
  "metadata": {
    "accelerator": "GPU",
    "colab": {
      "gpuType": "T4",
      "provenance": []
    },
    "kernelspec": {
      "display_name": "Python 3",
      "name": "python3"
    },
    "language_info": {
      "codemirror_mode": {
        "name": "ipython",
        "version": 3
      },
      "file_extension": ".py",
      "mimetype": "text/x-python",
      "name": "python",
      "nbconvert_exporter": "python",
      "pygments_lexer": "ipython3",
      "version": "3.12.6"
    }
  },
  "nbformat": 4,
  "nbformat_minor": 0
}
